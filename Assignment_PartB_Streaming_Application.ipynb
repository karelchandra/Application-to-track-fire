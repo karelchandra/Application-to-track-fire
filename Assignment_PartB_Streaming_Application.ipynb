{
 "cells": [
  {
   "cell_type": "markdown",
   "metadata": {},
   "source": [
    "Name: Karel Mackenzie Chandra\n",
    "Student ID:30373867"
   ]
  },
  {
   "cell_type": "code",
   "execution_count": 1,
   "metadata": {},
   "outputs": [],
   "source": [
    "# Libraries Used\n",
    "from pymongo import MongoClient\n",
    "from pyspark.sql import SparkSession\n",
    "from pyspark.sql.functions import *\n",
    "import pygeohash as pgh"
   ]
  },
  {
   "cell_type": "code",
   "execution_count": 2,
   "metadata": {},
   "outputs": [],
   "source": [
    "topic_name = 'EventProducer01'"
   ]
  },
  {
   "cell_type": "code",
   "execution_count": 3,
   "metadata": {},
   "outputs": [],
   "source": [
    "spark = (\n",
    "    SparkSession.builder\n",
    "    .master('local[*]')\n",
    "    .appName('[Demo] Spark Streaming from Kafka into MongoDB')\n",
    "    .getOrCreate()\n",
    ")"
   ]
  },
  {
   "cell_type": "code",
   "execution_count": 4,
   "metadata": {},
   "outputs": [],
   "source": [
    "# Open connection with kafka\n",
    "topic_stream_df = (\n",
    "    spark.readStream.format('kafka')\n",
    "    .option('kafka.bootstrap.servers', 'localhost:9092')\n",
    "    .option('subscribe', topic_name)\n",
    "    .load()\n",
    ")"
   ]
  },
  {
   "cell_type": "code",
   "execution_count": 5,
   "metadata": {},
   "outputs": [
    {
     "name": "stdout",
     "output_type": "stream",
     "text": [
      "root\n",
      " |-- key: binary (nullable = true)\n",
      " |-- value: binary (nullable = true)\n",
      " |-- topic: string (nullable = true)\n",
      " |-- partition: integer (nullable = true)\n",
      " |-- offset: long (nullable = true)\n",
      " |-- timestamp: timestamp (nullable = true)\n",
      " |-- timestampType: integer (nullable = true)\n",
      "\n"
     ]
    }
   ],
   "source": [
    "topic_stream_df.printSchema()"
   ]
  },
  {
   "cell_type": "code",
   "execution_count": 6,
   "metadata": {},
   "outputs": [],
   "source": [
    "# Change the output format so it is much more suitable\n",
    "output_stream_df = (\n",
    "    topic_stream_df\n",
    "    .select(                                      # 1\n",
    "        split(\n",
    "            topic_stream_df.value.cast('string'),\n",
    "            ','\n",
    "        )\n",
    "        .alias('data')\n",
    "    )\n",
    "\n",
    ")"
   ]
  },
  {
   "cell_type": "code",
   "execution_count": 7,
   "metadata": {},
   "outputs": [
    {
     "name": "stdout",
     "output_type": "stream",
     "text": [
      "root\n",
      " |-- data: array (nullable = true)\n",
      " |    |-- element: string (containsNull = true)\n",
      "\n"
     ]
    }
   ],
   "source": [
    "output_stream_df.printSchema()"
   ]
  },
  {
   "cell_type": "markdown",
   "metadata": {},
   "source": [
    "class DbWriter:\n",
    "    \"\"\"# called at the start of processing each partition in each output micro-batch\n",
    "    def open(self, partition_id, epoch_id):\n",
    "        self.mongo_client = MongoClient(\n",
    "            host='localhost',\n",
    "            port=27017\n",
    "        )\n",
    "        self.db = self.mongo_client['fit3182_assignment_db']\n",
    "        return True\n",
    "    \n",
    "    # called once per row of the result dataframe\n",
    "    # the current code DOES NOT handle duplicate processing\n",
    "    #   e.g., query fails and restarts just before current micro-batch was fully inserted\n",
    "    def process(self, row):\n",
    "        self.db[topic_name].insert_one(row.asDict())\"\"\"\n",
    "        \n",
    "    def process_batch(batch_df, batch_id):\n",
    "        pre_data = []\n",
    "        raw_data = batch_df.collect()\n",
    "        for l in raw_data:\n",
    "            pre_data.append(l.asDict())  \n",
    "        return pre_data\n",
    "    def logic(pre_data):\n",
    "        for l in pre_data:\n",
    "            if l['producer_num'] == 'Producer01':\n",
    "                print(\"True\")\n",
    "            else:\n",
    "                print(\"False\")\n",
    "    \n",
    "    \"\"\"# called once all rows have been processed (possibly with error)\n",
    "    def close(self, err):\n",
    "        self.mongo_client.close()\"\"\""
   ]
  },
  {
   "cell_type": "code",
   "execution_count": 17,
   "metadata": {},
   "outputs": [
    {
     "name": "stdout",
     "output_type": "stream",
     "text": [
      "{'data': [\"{'latitude': '-36.404'\", \" 'longitude': '142.5467'\", \" 'air_temperature_celcius': '25'\", \" 'relative_humidity': '60.9'\", \" 'windspeed_knots': '6.3'\", \" 'max_wind_speed': '8.9'\", \" 'precipitation ': ' 0.00I'\", \" 'GHI_w/m2': '195'\", \" 'date': '2022-03-13'\", \" 'producer_num': 'Producer01'}\"]}\n"
     ]
    }
   ],
   "source": [
    "# Initialize the Logial Requirement of the assignment\n",
    "def process_batch(batch_df, batch_id):\n",
    "    pre_data = []\n",
    "    raw_data = batch_df.collect()\n",
    "    for l in raw_data:\n",
    "        pre_data.append(l.asDict())\n",
    "        print(pre_data)\n",
    "    for i in pre_data:\n",
    "        if i['data'][9] == 'Producer01':\n",
    "            location1 = (i['data'][0], i['data'][1])\n",
    "            location2 = (i++['data'][0], i++['data'][1])\n",
    "            pgh(location1,location2)\n",
    "            def open(self, partition_id, epoch_id):\n",
    "                self.mongo_client = MongoClient(\n",
    "                    host='localhost',\n",
    "                    port=27017\n",
    "                )\n",
    "                self.db = self.mongo_client['fit3182_db']\n",
    "                return True\n",
    "    \n",
    "            # called once per row of the result dataframe\n",
    "            # the current code DOES NOT handle duplicate processing\n",
    "            #   e.g., query fails and restarts just before current micro-batch was fully inserted\n",
    "            def process(self, row):\n",
    "                data = json.loads(row.value)\n",
    "        \n",
    "                db_record = {}\n",
    "                db_record['_id'] = data.get('bay_id')\n",
    "                db_record['latitude'] = data.get('latitude')\n",
    "                db_record['longitude'] = data.get('longitude')\n",
    "                db_record['air_temperature_celcius'] = data.get('air_temperature_celcius')\n",
    "                print(db_record)\n",
    "                self.db[topic].replace_one({'_id': data.get('bay_id')}, db_record, upsert=True)\n",
    "    \n",
    "            # called once all rows have been processed (possibly with error)\n",
    "            def close(self, err):\n",
    "                self.mongo_client.close()\n",
    "        else:\n",
    "            return"
   ]
  },
  {
   "cell_type": "code",
   "execution_count": 18,
   "metadata": {},
   "outputs": [],
   "source": [
    "# Entry point of the stream\n",
    "db_writer = (\n",
    "    output_stream_df\n",
    "    .writeStream\n",
    "    .outputMode('append')\n",
    "    .trigger(processingTime='10 seconds')\n",
    "    .foreachBatch(process_batch)\n",
    ")"
   ]
  },
  {
   "cell_type": "code",
   "execution_count": 19,
   "metadata": {
    "scrolled": true
   },
   "outputs": [
    {
     "data": {
      "text/plain": [
       "<pyspark.sql.streaming.StreamingQuery at 0x7f334439c1f0>"
      ]
     },
     "execution_count": 19,
     "metadata": {},
     "output_type": "execute_result"
    },
    {
     "name": "stdout",
     "output_type": "stream",
     "text": [
      "False\n",
      "{'data': [\"{'latitude': '-37.954'\", \" 'longitude': '143.918'\", \" 'air_temperature_celcius': '20'\", \" 'relative_humidity': '59.7'\", \" 'windspeed_knots': '8.6'\", \" 'max_wind_speed': '15.9'\", \" 'precipitation ': ' 0.01G'\", \" 'GHI_w/m2': '158'\", \" 'date': '2022-03-14'\", \" 'producer_num': 'Producer01'}\"]}\n",
      "[\"{'latitude': '-37.954'\", \" 'longitude': '143.918'\", \" 'air_temperature_celcius': '20'\", \" 'relative_humidity': '59.7'\", \" 'windspeed_knots': '8.6'\", \" 'max_wind_speed': '15.9'\", \" 'precipitation ': ' 0.01G'\", \" 'GHI_w/m2': '158'\", \" 'date': '2022-03-14'\", \" 'producer_num': 'Producer01'}\"]\n",
      "False\n",
      "[\"{'latitude': '-37.858'\", \" 'longitude': '143.428'\", \" 'air_temperature_celcius': '14'\", \" 'relative_humidity': '49.5'\", \" 'windspeed_knots': '6'\", \" 'max_wind_speed': '12'\", \" 'precipitation ': ' 0.00G'\", \" 'GHI_w/m2': '121'\", \" 'date': '2022-03-15'\", \" 'producer_num': 'Producer01'}\"]\n",
      "{'data': [\"{'latitude': '-37.858'\", \" 'longitude': '143.428'\", \" 'air_temperature_celcius': '14'\", \" 'relative_humidity': '49.5'\", \" 'windspeed_knots': '6'\", \" 'max_wind_speed': '12'\", \" 'precipitation ': ' 0.00G'\", \" 'GHI_w/m2': '121'\", \" 'date': '2022-03-15'\", \" 'producer_num': 'Producer01'}\"]}\n",
      "{'latitude': '-37.858'\n",
      "False\n",
      "{'latitude': '-36.941'\n",
      "[\"{'latitude': '-36.941'\", \" 'longitude': '143.268'\", \" 'air_temperature_celcius': '23'\", \" 'relative_humidity': '63.8'\", \" 'windspeed_knots': '7.1'\", \" 'max_wind_speed': '15.9'\", \" 'precipitation ': ' 0.08G'\", \" 'GHI_w/m2': '174'\", \" 'date': '2022-03-16'\", \" 'producer_num': 'Producer01'}\"]\n",
      "{'data': [\"{'latitude': '-36.941'\", \" 'longitude': '143.268'\", \" 'air_temperature_celcius': '23'\", \" 'relative_humidity': '63.8'\", \" 'windspeed_knots': '7.1'\", \" 'max_wind_speed': '15.9'\", \" 'precipitation ': ' 0.08G'\", \" 'GHI_w/m2': '174'\", \" 'date': '2022-03-16'\", \" 'producer_num': 'Producer01'}\"]}\n",
      "False\n",
      "[\"{'latitude': '-37.399'\", \" 'longitude': '148.081'\", \" 'air_temperature_celcius': '14'\", \" 'relative_humidity': '49.9'\", \" 'windspeed_knots': '13.7'\", \" 'max_wind_speed': '22'\", \" 'precipitation ': ' 0.03G'\", \" 'GHI_w/m2': '120'\", \" 'date': '2022-03-17'\", \" 'producer_num': 'Producer01'}\"]\n",
      "{'latitude': '-37.399'\n",
      "{'data': [\"{'latitude': '-37.399'\", \" 'longitude': '148.081'\", \" 'air_temperature_celcius': '14'\", \" 'relative_humidity': '49.9'\", \" 'windspeed_knots': '13.7'\", \" 'max_wind_speed': '22'\", \" 'precipitation ': ' 0.03G'\", \" 'GHI_w/m2': '120'\", \" 'date': '2022-03-17'\", \" 'producer_num': 'Producer01'}\"]}\n",
      "{'data': [\"{'latitude': '-37.386'\", \" 'longitude': '148.043'\", \" 'air_temperature_celcius': '8'\", \" 'relative_humidity': '43.3'\", \" 'windspeed_knots': '3.9'\", \" 'max_wind_speed': '8'\", \" 'precipitation ': ' 0.00I'\", \" 'GHI_w/m2': '72'\", \" 'date': '2022-03-18'\", \" 'producer_num': 'Producer01'}\"]}\n",
      "False\n",
      "[\"{'latitude': '-37.386'\", \" 'longitude': '148.043'\", \" 'air_temperature_celcius': '8'\", \" 'relative_humidity': '43.3'\", \" 'windspeed_knots': '3.9'\", \" 'max_wind_speed': '8'\", \" 'precipitation ': ' 0.00I'\", \" 'GHI_w/m2': '72'\", \" 'date': '2022-03-18'\", \" 'producer_num': 'Producer01'}\"]\n",
      "{'latitude': '-37.386'\n",
      "False\n",
      "{'data': [\"{'latitude': '-36.939'\", \" 'longitude': '143.28'\", \" 'air_temperature_celcius': '20'\", \" 'relative_humidity': '67.4'\", \" 'windspeed_knots': '8.5'\", \" 'max_wind_speed': '14'\", \" 'precipitation ': ' 0.63G'\", \" 'GHI_w/m2': '147'\", \" 'date': '2022-03-19'\", \" 'producer_num': 'Producer01'}\"]}\n",
      "{'latitude': '-36.939'\n",
      "[\"{'latitude': '-36.939'\", \" 'longitude': '143.28'\", \" 'air_temperature_celcius': '20'\", \" 'relative_humidity': '67.4'\", \" 'windspeed_knots': '8.5'\", \" 'max_wind_speed': '14'\", \" 'precipitation ': ' 0.63G'\", \" 'GHI_w/m2': '147'\", \" 'date': '2022-03-19'\", \" 'producer_num': 'Producer01'}\"]\n",
      "{'data': [\"{'latitude': '-36.3114'\", \" 'longitude': '142.7605'\", \" 'air_temperature_celcius': '28'\", \" 'relative_humidity': '56.7'\", \" 'windspeed_knots': '9.3'\", \" 'max_wind_speed': '16.9'\", \" 'precipitation ': ' 0.00I'\", \" 'GHI_w/m2': '227'\", \" 'date': '2022-03-20'\", \" 'producer_num': 'Producer01'}\"]}\n",
      "{'latitude': '-36.3114'\n",
      "[\"{'latitude': '-36.3114'\", \" 'longitude': '142.7605'\", \" 'air_temperature_celcius': '28'\", \" 'relative_humidity': '56.7'\", \" 'windspeed_knots': '9.3'\", \" 'max_wind_speed': '16.9'\", \" 'precipitation ': ' 0.00I'\", \" 'GHI_w/m2': '227'\", \" 'date': '2022-03-20'\", \" 'producer_num': 'Producer01'}\"]\n",
      "False\n",
      "{'latitude': '-37.611'\n",
      "[\"{'latitude': '-37.611'\", \" 'longitude': '149.277'\", \" 'air_temperature_celcius': '18'\", \" 'relative_humidity': '49.4'\", \" 'windspeed_knots': '9.3'\", \" 'max_wind_speed': '13'\", \" 'precipitation ': ' 0.00I'\", \" 'GHI_w/m2': '155'\", \" 'date': '2022-03-21'\", \" 'producer_num': 'Producer01'}\"]\n",
      "{'data': [\"{'latitude': '-37.611'\", \" 'longitude': '149.277'\", \" 'air_temperature_celcius': '18'\", \" 'relative_humidity': '49.4'\", \" 'windspeed_knots': '9.3'\", \" 'max_wind_speed': '13'\", \" 'precipitation ': ' 0.00I'\", \" 'GHI_w/m2': '155'\", \" 'date': '2022-03-21'\", \" 'producer_num': 'Producer01'}\"]}\n",
      "False\n",
      "{'latitude': '-36.418'\n",
      "[\"{'latitude': '-36.418'\", \" 'longitude': '141.596'\", \" 'air_temperature_celcius': '14'\", \" 'relative_humidity': '50.1'\", \" 'windspeed_knots': '8.7'\", \" 'max_wind_speed': '15'\", \" 'precipitation ': ' 0.00G'\", \" 'GHI_w/m2': '120'\", \" 'date': '2022-03-22'\", \" 'producer_num': 'Producer01'}\"]\n",
      "{'data': [\"{'latitude': '-36.418'\", \" 'longitude': '141.596'\", \" 'air_temperature_celcius': '14'\", \" 'relative_humidity': '50.1'\", \" 'windspeed_knots': '8.7'\", \" 'max_wind_speed': '15'\", \" 'precipitation ': ' 0.00G'\", \" 'GHI_w/m2': '120'\", \" 'date': '2022-03-22'\", \" 'producer_num': 'Producer01'}\"]}\n",
      "False\n",
      "{'data': [\"{'latitude': '-36.6511'\", \" 'longitude': '143.915'\", \" 'air_temperature_celcius': '13'\", \" 'relative_humidity': '46.2'\", \" 'windspeed_knots': '5.6'\", \" 'max_wind_speed': '12'\", \" 'precipitation ': ' 0.00I'\", \" 'GHI_w/m2': '115'\", \" 'date': '2022-03-23'\", \" 'producer_num': 'Producer01'}\"]}\n",
      "[\"{'latitude': '-36.6511'\", \" 'longitude': '143.915'\", \" 'air_temperature_celcius': '13'\", \" 'relative_humidity': '46.2'\", \" 'windspeed_knots': '5.6'\", \" 'max_wind_speed': '12'\", \" 'precipitation ': ' 0.00I'\", \" 'GHI_w/m2': '115'\", \" 'date': '2022-03-23'\", \" 'producer_num': 'Producer01'}\"]\n",
      "False\n",
      "{'latitude': '-36.6511'\n",
      "False\n",
      "{'data': [\"{'latitude': '-36.9364'\", \" 'longitude': '143.4996'\", \" 'air_temperature_celcius': '14'\", \" 'relative_humidity': '41.7'\", \" 'windspeed_knots': '12.3'\", \" 'max_wind_speed': '18.1'\", \" 'precipitation ': ' 0.00G'\", \" 'GHI_w/m2': '128'\", \" 'date': '2022-03-24'\", \" 'producer_num': 'Producer01'}\"]}\n",
      "[\"{'latitude': '-36.9364'\", \" 'longitude': '143.4996'\", \" 'air_temperature_celcius': '14'\", \" 'relative_humidity': '41.7'\", \" 'windspeed_knots': '12.3'\", \" 'max_wind_speed': '18.1'\", \" 'precipitation ': ' 0.00G'\", \" 'GHI_w/m2': '128'\", \" 'date': '2022-03-24'\", \" 'producer_num': 'Producer01'}\"]\n",
      "{'latitude': '-36.9364'\n",
      "False\n",
      "{'data': [\"{'latitude': '-37.758'\", \" 'longitude': '144.693'\", \" 'air_temperature_celcius': '20'\", \" 'relative_humidity': '58.8'\", \" 'windspeed_knots': '11.5'\", \" 'max_wind_speed': '15.9'\", \" 'precipitation ': ' 0.00I'\", \" 'GHI_w/m2': '159'\", \" 'date': '2022-03-25'\", \" 'producer_num': 'Producer01'}\"]}\n",
      "{'latitude': '-37.758'\n",
      "[\"{'latitude': '-37.758'\", \" 'longitude': '144.693'\", \" 'air_temperature_celcius': '20'\", \" 'relative_humidity': '58.8'\", \" 'windspeed_knots': '11.5'\", \" 'max_wind_speed': '15.9'\", \" 'precipitation ': ' 0.00I'\", \" 'GHI_w/m2': '159'\", \" 'date': '2022-03-25'\", \" 'producer_num': 'Producer01'}\"]\n",
      "False\n",
      "{'data': [\"{'latitude': '-37.386'\", \" 'longitude': '148.043'\", \" 'air_temperature_celcius': '8'\", \" 'relative_humidity': '43.3'\", \" 'windspeed_knots': '3.9'\", \" 'max_wind_speed': '8'\", \" 'precipitation ': ' 0.00I'\", \" 'GHI_w/m2': '72'\", \" 'date': '2022-03-26'\", \" 'producer_num': 'Producer01'}\"]}\n",
      "{'latitude': '-37.386'\n",
      "[\"{'latitude': '-37.386'\", \" 'longitude': '148.043'\", \" 'air_temperature_celcius': '8'\", \" 'relative_humidity': '43.3'\", \" 'windspeed_knots': '3.9'\", \" 'max_wind_speed': '8'\", \" 'precipitation ': ' 0.00I'\", \" 'GHI_w/m2': '72'\", \" 'date': '2022-03-26'\", \" 'producer_num': 'Producer01'}\"]\n",
      "{'data': [\"{'latitude': '-37.401'\", \" 'longitude': '148.067'\", \" 'air_temperature_celcius': '13'\", \" 'relative_humidity': '42.5'\", \" 'windspeed_knots': '14'\", \" 'max_wind_speed': '19'\", \" 'precipitation ': ' 0.04G'\", \" 'GHI_w/m2': '118'\", \" 'date': '2022-03-27'\", \" 'producer_num': 'Producer01'}\"]}\n",
      "False\n",
      "{'latitude': '-37.401'\n",
      "[\"{'latitude': '-37.401'\", \" 'longitude': '148.067'\", \" 'air_temperature_celcius': '13'\", \" 'relative_humidity': '42.5'\", \" 'windspeed_knots': '14'\", \" 'max_wind_speed': '19'\", \" 'precipitation ': ' 0.04G'\", \" 'GHI_w/m2': '118'\", \" 'date': '2022-03-27'\", \" 'producer_num': 'Producer01'}\"]\n",
      "False\n",
      "{'data': [\"{'latitude': '-37.475'\", \" 'longitude': '148.134'\", \" 'air_temperature_celcius': '8'\", \" 'relative_humidity': '43.1'\", \" 'windspeed_knots': '3.4'\", \" 'max_wind_speed': '7'\", \" 'precipitation ': ' 0.00I'\", \" 'GHI_w/m2': '73'\", \" 'date': '2022-03-28'\", \" 'producer_num': 'Producer01'}\"]}\n",
      "[\"{'latitude': '-37.475'\", \" 'longitude': '148.134'\", \" 'air_temperature_celcius': '8'\", \" 'relative_humidity': '43.1'\", \" 'windspeed_knots': '3.4'\", \" 'max_wind_speed': '7'\", \" 'precipitation ': ' 0.00I'\", \" 'GHI_w/m2': '73'\", \" 'date': '2022-03-28'\", \" 'producer_num': 'Producer01'}\"]\n",
      "{'latitude': '-37.475'\n",
      "[\"{'latitude': '-37.425'\", \" 'longitude': '148.107'\", \" 'air_temperature_celcius': '15'\", \" 'relative_humidity': '41.2'\", \" 'windspeed_knots': '13.8'\", \" 'max_wind_speed': '16.9'\", \" 'precipitation ': ' 0.00G'\", \" 'GHI_w/m2': '138'\", \" 'date': '2022-03-29'\", \" 'producer_num': 'Producer01'}\"]\n",
      "{'latitude': '-37.425'\n",
      "{'data': [\"{'latitude': '-37.425'\", \" 'longitude': '148.107'\", \" 'air_temperature_celcius': '15'\", \" 'relative_humidity': '41.2'\", \" 'windspeed_knots': '13.8'\", \" 'max_wind_speed': '16.9'\", \" 'precipitation ': ' 0.00G'\", \" 'GHI_w/m2': '138'\", \" 'date': '2022-03-29'\", \" 'producer_num': 'Producer01'}\"]}\n",
      "False\n",
      "{'data': [\"{'latitude': '-37.329'\", \" 'longitude': '143.136'\", \" 'air_temperature_celcius': '21'\", \" 'relative_humidity': '47'\", \" 'windspeed_knots': '13.2'\", \" 'max_wind_speed': '20'\", \" 'precipitation ': ' 0.00I'\", \" 'GHI_w/m2': '185'\", \" 'date': '2022-03-30'\", \" 'producer_num': 'Producer01'}\"]}\n",
      "{'latitude': '-37.329'\n",
      "[\"{'latitude': '-37.329'\", \" 'longitude': '143.136'\", \" 'air_temperature_celcius': '21'\", \" 'relative_humidity': '47'\", \" 'windspeed_knots': '13.2'\", \" 'max_wind_speed': '20'\", \" 'precipitation ': ' 0.00I'\", \" 'GHI_w/m2': '185'\", \" 'date': '2022-03-30'\", \" 'producer_num': 'Producer01'}\"]\n",
      "False\n",
      "{'data': [\"{'latitude': '-37.602'\", \" 'longitude': '149.311'\", \" 'air_temperature_celcius': '14'\", \" 'relative_humidity': '48.5'\", \" 'windspeed_knots': '7.3'\", \" 'max_wind_speed': '14'\", \" 'precipitation ': ' 0.00G'\", \" 'GHI_w/m2': '122'\", \" 'date': '2022-03-31'\", \" 'producer_num': 'Producer01'}\"]}\n",
      "{'latitude': '-37.602'\n",
      "[\"{'latitude': '-37.602'\", \" 'longitude': '149.311'\", \" 'air_temperature_celcius': '14'\", \" 'relative_humidity': '48.5'\", \" 'windspeed_knots': '7.3'\", \" 'max_wind_speed': '14'\", \" 'precipitation ': ' 0.00G'\", \" 'GHI_w/m2': '122'\", \" 'date': '2022-03-31'\", \" 'producer_num': 'Producer01'}\"]\n",
      "False\n",
      "{'latitude': '-36.1'\n",
      "False\n",
      "{'data': [\"{'latitude': '-36.1'\", \" 'longitude': '143.767'\", \" 'air_temperature_celcius': '20'\", \" 'relative_humidity': '53.5'\", \" 'windspeed_knots': '7.2'\", \" 'max_wind_speed': '15.9'\", \" 'precipitation ': ' 0.31G'\", \" 'GHI_w/m2': '166'\", \" 'date': '2022-04-01'\", \" 'producer_num': 'Producer01'}\"]}\n",
      "[\"{'latitude': '-36.1'\", \" 'longitude': '143.767'\", \" 'air_temperature_celcius': '20'\", \" 'relative_humidity': '53.5'\", \" 'windspeed_knots': '7.2'\", \" 'max_wind_speed': '15.9'\", \" 'precipitation ': ' 0.31G'\", \" 'GHI_w/m2': '166'\", \" 'date': '2022-04-01'\", \" 'producer_num': 'Producer01'}\"]\n",
      "False\n",
      "{'data': [\"{'latitude': '-37.59'\", \" 'longitude': '149.31'\", \" 'air_temperature_celcius': '19'\", \" 'relative_humidity': '57.2'\", \" 'windspeed_knots': '8.9'\", \" 'max_wind_speed': '15'\", \" 'precipitation ': ' 0.98G'\", \" 'GHI_w/m2': '153'\", \" 'date': '2022-04-02'\", \" 'producer_num': 'Producer01'}\"]}\n",
      "{'latitude': '-37.59'\n",
      "[\"{'latitude': '-37.59'\", \" 'longitude': '149.31'\", \" 'air_temperature_celcius': '19'\", \" 'relative_humidity': '57.2'\", \" 'windspeed_knots': '8.9'\", \" 'max_wind_speed': '15'\", \" 'precipitation ': ' 0.98G'\", \" 'GHI_w/m2': '153'\", \" 'date': '2022-04-02'\", \" 'producer_num': 'Producer01'}\"]\n",
      "[\"{'latitude': '-37.6836'\", \" 'longitude': '142.6069'\", \" 'air_temperature_celcius': '13'\", \" 'relative_humidity': '38.4'\", \" 'windspeed_knots': '11.5'\", \" 'max_wind_speed': '16.9'\", \" 'precipitation ': ' 0.00G'\", \" 'GHI_w/m2': '122'\", \" 'date': '2022-04-03'\", \" 'producer_num': 'Producer01'}\"]\n",
      "{'latitude': '-37.6836'\n",
      "{'data': [\"{'latitude': '-37.6836'\", \" 'longitude': '142.6069'\", \" 'air_temperature_celcius': '13'\", \" 'relative_humidity': '38.4'\", \" 'windspeed_knots': '11.5'\", \" 'max_wind_speed': '16.9'\", \" 'precipitation ': ' 0.00G'\", \" 'GHI_w/m2': '122'\", \" 'date': '2022-04-03'\", \" 'producer_num': 'Producer01'}\"]}\n",
      "False\n",
      "[\"{'latitude': '-37.34'\", \" 'longitude': '143.123'\", \" 'air_temperature_celcius': '19'\", \" 'relative_humidity': '52.8'\", \" 'windspeed_knots': '12.5'\", \" 'max_wind_speed': '21'\", \" 'precipitation ': ' 0.47G'\", \" 'GHI_w/m2': '159'\", \" 'date': '2022-04-04'\", \" 'producer_num': 'Producer01'}\"]\n",
      "{'latitude': '-37.34'\n",
      "{'data': [\"{'latitude': '-37.34'\", \" 'longitude': '143.123'\", \" 'air_temperature_celcius': '19'\", \" 'relative_humidity': '52.8'\", \" 'windspeed_knots': '12.5'\", \" 'max_wind_speed': '21'\", \" 'precipitation ': ' 0.47G'\", \" 'GHI_w/m2': '159'\", \" 'date': '2022-04-04'\", \" 'producer_num': 'Producer01'}\"]}\n",
      "False\n",
      "False\n",
      "{'data': [\"{'latitude': '-37.333'\", \" 'longitude': '148.099'\", \" 'air_temperature_celcius': '10'\", \" 'relative_humidity': '35.6'\", \" 'windspeed_knots': '14.5'\", \" 'max_wind_speed': '20'\", \" 'precipitation ': ' 0.00I'\", \" 'GHI_w/m2': '96'\", \" 'date': '2022-04-05'\", \" 'producer_num': 'Producer01'}\"]}\n",
      "{'latitude': '-37.333'\n",
      "[\"{'latitude': '-37.333'\", \" 'longitude': '148.099'\", \" 'air_temperature_celcius': '10'\", \" 'relative_humidity': '35.6'\", \" 'windspeed_knots': '14.5'\", \" 'max_wind_speed': '20'\", \" 'precipitation ': ' 0.00I'\", \" 'GHI_w/m2': '96'\", \" 'date': '2022-04-05'\", \" 'producer_num': 'Producer01'}\"]\n",
      "{'latitude': '-36.543'\n",
      "False\n",
      "{'data': [\"{'latitude': '-36.543'\", \" 'longitude': '141.138'\", \" 'air_temperature_celcius': '15'\", \" 'relative_humidity': '47.7'\", \" 'windspeed_knots': '5.9'\", \" 'max_wind_speed': '13'\", \" 'precipitation ': ' 0.00I'\", \" 'GHI_w/m2': '131'\", \" 'date': '2022-04-06'\", \" 'producer_num': 'Producer01'}\"]}\n",
      "[\"{'latitude': '-36.543'\", \" 'longitude': '141.138'\", \" 'air_temperature_celcius': '15'\", \" 'relative_humidity': '47.7'\", \" 'windspeed_knots': '5.9'\", \" 'max_wind_speed': '13'\", \" 'precipitation ': ' 0.00I'\", \" 'GHI_w/m2': '131'\", \" 'date': '2022-04-06'\", \" 'producer_num': 'Producer01'}\"]\n",
      "False\n",
      "{'data': [\"{'latitude': '-38.141'\", \" 'longitude': '143.183'\", \" 'air_temperature_celcius': '23'\", \" 'relative_humidity': '54.1'\", \" 'windspeed_knots': '5.7'\", \" 'max_wind_speed': '14'\", \" 'precipitation ': ' 0.00I'\", \" 'GHI_w/m2': '190'\", \" 'date': '2022-04-07'\", \" 'producer_num': 'Producer01'}\"]}\n",
      "[\"{'latitude': '-38.141'\", \" 'longitude': '143.183'\", \" 'air_temperature_celcius': '23'\", \" 'relative_humidity': '54.1'\", \" 'windspeed_knots': '5.7'\", \" 'max_wind_speed': '14'\", \" 'precipitation ': ' 0.00I'\", \" 'GHI_w/m2': '190'\", \" 'date': '2022-04-07'\", \" 'producer_num': 'Producer01'}\"]\n",
      "{'latitude': '-38.141'\n",
      "False\n",
      "{'latitude': '-36.2111'\n",
      "[\"{'latitude': '-36.2111'\", \" 'longitude': '141.505'\", \" 'air_temperature_celcius': '24'\", \" 'relative_humidity': '55.5'\", \" 'windspeed_knots': '7.9'\", \" 'max_wind_speed': '15'\", \" 'precipitation ': ' 0.00I'\", \" 'GHI_w/m2': '196'\", \" 'date': '2022-04-08'\", \" 'producer_num': 'Producer01'}\"]\n",
      "{'data': [\"{'latitude': '-36.2111'\", \" 'longitude': '141.505'\", \" 'air_temperature_celcius': '24'\", \" 'relative_humidity': '55.5'\", \" 'windspeed_knots': '7.9'\", \" 'max_wind_speed': '15'\", \" 'precipitation ': ' 0.00I'\", \" 'GHI_w/m2': '196'\", \" 'date': '2022-04-08'\", \" 'producer_num': 'Producer01'}\"]}\n",
      "{'latitude': '-37.3583'\n",
      "{'data': [\"{'latitude': '-37.3583'\", \" 'longitude': '143.0203'\", \" 'air_temperature_celcius': '13'\", \" 'relative_humidity': '43.3'\", \" 'windspeed_knots': '9.4'\", \" 'max_wind_speed': '14'\", \" 'precipitation ': ' 0.00G'\", \" 'GHI_w/m2': '118'\", \" 'date': '2022-04-09'\", \" 'producer_num': 'Producer01'}\"]}\n",
      "False\n",
      "[\"{'latitude': '-37.3583'\", \" 'longitude': '143.0203'\", \" 'air_temperature_celcius': '13'\", \" 'relative_humidity': '43.3'\", \" 'windspeed_knots': '9.4'\", \" 'max_wind_speed': '14'\", \" 'precipitation ': ' 0.00G'\", \" 'GHI_w/m2': '118'\", \" 'date': '2022-04-09'\", \" 'producer_num': 'Producer01'}\"]\n",
      "{'data': [\"{'latitude': '-37.497'\", \" 'longitude': '147.266'\", \" 'air_temperature_celcius': '10'\", \" 'relative_humidity': '41'\", \" 'windspeed_knots': '14.1'\", \" 'max_wind_speed': '20'\", \" 'precipitation ': ' 0.02G'\", \" 'GHI_w/m2': '92'\", \" 'date': '2022-04-10'\", \" 'producer_num': 'Producer01'}\"]}\n",
      "{'latitude': '-37.497'\n",
      "[\"{'latitude': '-37.497'\", \" 'longitude': '147.266'\", \" 'air_temperature_celcius': '10'\", \" 'relative_humidity': '41'\", \" 'windspeed_knots': '14.1'\", \" 'max_wind_speed': '20'\", \" 'precipitation ': ' 0.02G'\", \" 'GHI_w/m2': '92'\", \" 'date': '2022-04-10'\", \" 'producer_num': 'Producer01'}\"]\n",
      "False\n"
     ]
    }
   ],
   "source": [
    "# Start of the whole program wait for producer to feed the data\n",
    "db_writer.start()"
   ]
  }
 ],
 "metadata": {
  "kernelspec": {
   "display_name": "Python 3",
   "language": "python",
   "name": "python3"
  },
  "language_info": {
   "codemirror_mode": {
    "name": "ipython",
    "version": 3
   },
   "file_extension": ".py",
   "mimetype": "text/x-python",
   "name": "python",
   "nbconvert_exporter": "python",
   "pygments_lexer": "ipython3",
   "version": "3.8.10"
  }
 },
 "nbformat": 4,
 "nbformat_minor": 4
}
